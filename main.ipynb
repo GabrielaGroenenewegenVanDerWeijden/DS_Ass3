{
 "cells": [
  {
   "cell_type": "markdown",
   "metadata": {},
   "source": [
    "# Data Science Assignment 3\n",
    "## Group 6: Gabriea Groenewegen Van Der Weijden & Arnaud Haaster"
   ]
  },
  {
   "cell_type": "code",
   "execution_count": null,
   "metadata": {},
   "outputs": [],
   "source": [
    "# Important Imports\n",
    "import kaggle\n"
   ]
  },
  {
   "cell_type": "markdown",
   "metadata": {},
   "source": [
    "### Week 10 preperation:\n",
    "1. Download the data from https://www.kaggle.com/c/home-depot-product-searchrelevance/data and unzip all files. You now have a directory with four csv files and one docx\n",
    "file.\n",
    "2. Import the csv files in Python as separate Pandas dataframes.\n",
    "3. Read the information on the task and the data. Provide a task definition in your report for\n",
    "assignment 3"
   ]
  }
 ],
 "metadata": {
  "kernelspec": {
   "display_name": "DS_Ass3",
   "language": "python",
   "name": "python3"
  },
  "language_info": {
   "codemirror_mode": {
    "name": "ipython",
    "version": 3
   },
   "file_extension": ".py",
   "mimetype": "text/x-python",
   "name": "python",
   "nbconvert_exporter": "python",
   "pygments_lexer": "ipython3",
   "version": "3.13.2"
  }
 },
 "nbformat": 4,
 "nbformat_minor": 2
}
